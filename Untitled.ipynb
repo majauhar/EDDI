{
 "cells": [
  {
   "cell_type": "code",
   "execution_count": 71,
   "id": "c33e2ffb",
   "metadata": {},
   "outputs": [],
   "source": [
    "import numpy as np\n",
    "import pandas as pd"
   ]
  },
  {
   "cell_type": "code",
   "execution_count": 93,
   "id": "e518ff5a",
   "metadata": {},
   "outputs": [
    {
     "name": "stdout",
     "output_type": "stream",
     "text": [
      "LICENSE\r\n",
      "MAR-same-inter_column-7_p-0.2_nan-0.18_depcol-3_dep-7913.npy\r\n",
      "MAR-same-random_column-7_p-0.5_nan-0.33_depcol-3_p1-0.17_p2-0.21_p3-0.26_dep-91112.npy\r\n",
      "MAR-same-sum_column-7_p-0.2_nan-0.24_depcol-3_dep-71213.npy\r\n",
      "MCAR_column-7_p-0.2_nan-0.2.npy\r\n",
      "MNAR-notsame-data_housing_mnar_7_p-0.1_maxdep-5_nan-0.13.npy\r\n",
      "MNAR-same-inter_column-7_p-0.2_nan-0.20_depcol-4_misdepcol-45_dep-811.npy\r\n",
      "MNAR-same-nn_column-7_p-0.5_nan-0.20_depcol-4_misdepcol-03_depcol-1013_threshold-0.4.npy\r\n",
      "README.md\r\n",
      "README.txt\r\n",
      "SECURITY.md\r\n",
      "Untitled.ipynb\r\n",
      "Wine_0.1.npy\r\n",
      "Wine_0.3.npy\r\n",
      "Wine_0.5.npy\r\n",
      "Wine_0.7.npy\r\n",
      "Wine_MNAR-same-nn_column-5_p-0.5_nan-0.5_depcol-4_misdepcol-34_depcol-910_threshold-0.4.npy\r\n",
      "Wine_MNAR_notsame_0.43.npy\r\n",
      "\u001b[34m__pycache__\u001b[m\u001b[m\r\n",
      "active_learning_functions.py\r\n",
      "azure-pipelines.yml\r\n",
      "boston_bar_plot.py\r\n",
      "codings.py\r\n",
      "\u001b[34mdata\u001b[m\u001b[m\r\n",
      "main_active_learning.py\r\n",
      "main_train_and_impute.py\r\n",
      "\u001b[34mmodel\u001b[m\u001b[m\r\n",
      "p_vae.py\r\n",
      "train_and_test_functions.py\r\n"
     ]
    }
   ],
   "source": [
    "!ls"
   ]
  },
  {
   "cell_type": "code",
   "execution_count": null,
   "id": "8f537795",
   "metadata": {},
   "outputs": [],
   "source": [
    "# Dataset: Boston Housing (missing: 0.2)\n",
    "# MAR-same-inter: 0.9458\n",
    "# MAR-same-random: 0.7851\n",
    "# MAR-same-sum: 0.8874\n",
    "# MCAR: 0.8569\n",
    "# MNAR-notsame: 0.9633\n",
    "# MNAR-same-inter: 0.8030\n",
    "# MNAR-same-nn: 0.7741"
   ]
  },
  {
   "cell_type": "code",
   "execution_count": 73,
   "id": "c0fd9a7f",
   "metadata": {},
   "outputs": [],
   "source": [
    "url = \"https://archive.ics.uci.edu/ml/machine-learning-databases/wine-quality/winequality-white.csv\"\n",
    "Data = np.array(pd.read_csv(url, low_memory=False, sep=';'))"
   ]
  },
  {
   "cell_type": "code",
   "execution_count": 95,
   "id": "2a0dbaba",
   "metadata": {},
   "outputs": [
    {
     "data": {
      "text/plain": [
       "(506, 14)"
      ]
     },
     "execution_count": 95,
     "metadata": {},
     "output_type": "execute_result"
    }
   ],
   "source": [
    "missing_data = np.load('MAR-same-inter_column-7_p-0.2_nan-0.18_depcol-3_dep-7913.npy')\n",
    "missing_data.shape"
   ]
  },
  {
   "cell_type": "code",
   "execution_count": 79,
   "id": "3c0f558b",
   "metadata": {},
   "outputs": [
    {
     "data": {
      "text/plain": [
       "(4898, 12)"
      ]
     },
     "execution_count": 79,
     "metadata": {},
     "output_type": "execute_result"
    }
   ],
   "source": [
    "Data.shape"
   ]
  },
  {
   "cell_type": "code",
   "execution_count": 81,
   "id": "d0cbff62",
   "metadata": {},
   "outputs": [
    {
     "data": {
      "text/plain": [
       "array([7.000e+00, 2.700e-01, 3.600e-01, 2.070e+01, 4.500e-02, 4.500e+01,\n",
       "       1.700e+02, 1.001e+00, 3.000e+00, 4.500e-01, 8.800e+00, 6.000e+00])"
      ]
     },
     "execution_count": 81,
     "metadata": {},
     "output_type": "execute_result"
    }
   ],
   "source": [
    "Data[0]"
   ]
  },
  {
   "cell_type": "code",
   "execution_count": 82,
   "id": "82b171c1",
   "metadata": {},
   "outputs": [
    {
     "data": {
      "text/plain": [
       "array([      nan,       nan, 3.600e-01,       nan, 4.500e-02, 4.500e+01,\n",
       "       1.700e+02, 1.001e+00, 3.000e+00, 4.500e-01, 8.800e+00])"
      ]
     },
     "execution_count": 82,
     "metadata": {},
     "output_type": "execute_result"
    }
   ],
   "source": [
    "missing_data[0]"
   ]
  },
  {
   "cell_type": "code",
   "execution_count": 80,
   "id": "d29a5d2a",
   "metadata": {},
   "outputs": [
    {
     "data": {
      "text/plain": [
       "(4898, 11)"
      ]
     },
     "execution_count": 80,
     "metadata": {},
     "output_type": "execute_result"
    }
   ],
   "source": [
    "missing_data.shape"
   ]
  },
  {
   "cell_type": "code",
   "execution_count": 90,
   "id": "0cd8d92a",
   "metadata": {},
   "outputs": [],
   "source": [
    "missing_data_temp = np.empty((4898, 12))\n",
    "for i in range(4898):\n",
    "    missing_data_temp[i] = np.append(missing_data[i], Data[i][11])"
   ]
  },
  {
   "cell_type": "code",
   "execution_count": 92,
   "id": "5ec4166c",
   "metadata": {},
   "outputs": [
    {
     "data": {
      "text/plain": [
       "array([      nan,       nan, 3.600e-01,       nan, 4.500e-02, 4.500e+01,\n",
       "       1.700e+02, 1.001e+00, 3.000e+00, 4.500e-01, 8.800e+00, 6.000e+00])"
      ]
     },
     "execution_count": 92,
     "metadata": {},
     "output_type": "execute_result"
    }
   ],
   "source": [
    "missing_data_temp[0]"
   ]
  },
  {
   "cell_type": "code",
   "execution_count": 86,
   "id": "88df950e",
   "metadata": {},
   "outputs": [
    {
     "data": {
      "text/plain": [
       "array([1, 2, 3, 1])"
      ]
     },
     "execution_count": 86,
     "metadata": {},
     "output_type": "execute_result"
    }
   ],
   "source": [
    "a = np.array([1, 2, 3])\n",
    "np.append(a, 1)"
   ]
  },
  {
   "cell_type": "code",
   "execution_count": 3,
   "id": "6f151e3f",
   "metadata": {},
   "outputs": [],
   "source": [
    "data = np.load('')"
   ]
  },
  {
   "cell_type": "code",
   "execution_count": 84,
   "id": "25500091",
   "metadata": {},
   "outputs": [],
   "source": [
    "for row in data:\n",
    "    if np.isnan(row[13]):\n",
    "        print(row)"
   ]
  },
  {
   "cell_type": "code",
   "execution_count": 60,
   "id": "a4ceb9b0",
   "metadata": {},
   "outputs": [],
   "source": [
    "S = np.array(~np.isnan(data), dtype=np.float)"
   ]
  },
  {
   "cell_type": "code",
   "execution_count": 63,
   "id": "59de26eb",
   "metadata": {},
   "outputs": [
    {
     "data": {
      "text/plain": [
       "array([0., 0., 0., 0., 0., 0., 1., 0., 0., 0., 0., 0., 0., 0.])"
      ]
     },
     "execution_count": 63,
     "metadata": {},
     "output_type": "execute_result"
    }
   ],
   "source": [
    "(1-S)[0]"
   ]
  },
  {
   "cell_type": "code",
   "execution_count": 68,
   "id": "285ece83",
   "metadata": {},
   "outputs": [
    {
     "data": {
      "text/plain": [
       "16"
      ]
     },
     "execution_count": 68,
     "metadata": {},
     "output_type": "execute_result"
    }
   ],
   "source": [
    "2 ** 3 * 2"
   ]
  },
  {
   "cell_type": "code",
   "execution_count": 43,
   "id": "708b57b7",
   "metadata": {},
   "outputs": [],
   "source": [
    "# mask = data.copy()"
   ]
  },
  {
   "cell_type": "code",
   "execution_count": 65,
   "id": "db2bbd8f",
   "metadata": {},
   "outputs": [],
   "source": [
    "mask = np.invert(np.isnan(data)).astype(int)"
   ]
  },
  {
   "cell_type": "code",
   "execution_count": 67,
   "id": "9200ae61",
   "metadata": {},
   "outputs": [
    {
     "data": {
      "text/plain": [
       "array([1, 1, 1, 1, 1, 1, 0, 1, 1, 1, 1, 1, 1, 1])"
      ]
     },
     "execution_count": 67,
     "metadata": {},
     "output_type": "execute_result"
    }
   ],
   "source": [
    "mask[0]"
   ]
  },
  {
   "cell_type": "code",
   "execution_count": 56,
   "id": "3267907f",
   "metadata": {},
   "outputs": [],
   "source": [
    "mask[mask == 0] = 2"
   ]
  },
  {
   "cell_type": "code",
   "execution_count": 57,
   "id": "4d4b665e",
   "metadata": {},
   "outputs": [
    {
     "data": {
      "text/plain": [
       "array([1, 2, 2, 2, 2, 2, 2, 2, 2, 2, 2, 2, 2, 2])"
      ]
     },
     "execution_count": 57,
     "metadata": {},
     "output_type": "execute_result"
    }
   ],
   "source": [
    "mask[mask == 1] = 0\n",
    "mask[mask == 2] = 1"
   ]
  },
  {
   "cell_type": "code",
   "execution_count": 48,
   "id": "ad518dd6",
   "metadata": {},
   "outputs": [
    {
     "data": {
      "text/plain": [
       "array([     nan,   0.    ,  11.93  ,   0.    ,   0.573 ,   6.794 ,\n",
       "        89.3   ,   2.3889,   1.    , 273.    ,  21.    , 393.45  ,\n",
       "         6.48  ,  22.    ])"
      ]
     },
     "execution_count": 48,
     "metadata": {},
     "output_type": "execute_result"
    }
   ],
   "source": [
    "data[-2]"
   ]
  },
  {
   "cell_type": "code",
   "execution_count": null,
   "id": "363fde7e",
   "metadata": {},
   "outputs": [],
   "source": []
  }
 ],
 "metadata": {
  "kernelspec": {
   "display_name": "Python 3",
   "language": "python",
   "name": "python3"
  },
  "language_info": {
   "codemirror_mode": {
    "name": "ipython",
    "version": 3
   },
   "file_extension": ".py",
   "mimetype": "text/x-python",
   "name": "python",
   "nbconvert_exporter": "python",
   "pygments_lexer": "ipython3",
   "version": "3.6.15"
  }
 },
 "nbformat": 4,
 "nbformat_minor": 5
}
