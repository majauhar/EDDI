{
 "cells": [
  {
   "cell_type": "code",
   "execution_count": 1,
   "id": "f0eab89b",
   "metadata": {},
   "outputs": [],
   "source": [
    "import numpy as np"
   ]
  },
  {
   "cell_type": "code",
   "execution_count": 2,
   "id": "3759ead4",
   "metadata": {},
   "outputs": [
    {
     "name": "stdout",
     "output_type": "stream",
     "text": [
      "LICENSE\r\n",
      "MAR-same-inter_column-7_p-0.2_nan-0.18_depcol-3_dep-7913.npy\r\n",
      "MAR-same-random_column-7_p-0.5_nan-0.33_depcol-3_p1-0.17_p2-0.21_p3-0.26_dep-91112.npy\r\n",
      "MAR-same-sum_column-7_p-0.2_nan-0.24_depcol-3_dep-71213.npy\r\n",
      "MCAR_column-7_p-0.2_nan-0.2.npy\r\n",
      "MNAR-notsame-data_housing_mnar_7_p-0.1_maxdep-5_nan-0.13.npy\r\n",
      "MNAR-same-inter_column-7_p-0.2_nan-0.20_depcol-4_misdepcol-45_dep-811.npy\r\n",
      "MNAR-same-nn_column-7_p-0.5_nan-0.20_depcol-4_misdepcol-03_depcol-1013_threshold-0.4.npy\r\n",
      "README.md\r\n",
      "README.txt\r\n",
      "SECURITY.md\r\n",
      "Untitled.ipynb\r\n",
      "active_learning_functions.py\r\n",
      "azure-pipelines.yml\r\n",
      "boston_bar_plot.py\r\n",
      "codings.py\r\n",
      "\u001b[34mdata\u001b[m\u001b[m\r\n",
      "main_active_learning.py\r\n",
      "main_train_and_impute.py\r\n",
      "p_vae.py\r\n",
      "train_and_test_functions.py\r\n"
     ]
    }
   ],
   "source": [
    "!ls"
   ]
  },
  {
   "cell_type": "code",
   "execution_count": 3,
   "id": "2be88e0b",
   "metadata": {},
   "outputs": [],
   "source": [
    "data = np.load('MNAR-notsame-data_housing_mnar_7_p-0.1_maxdep-5_nan-0.13.npy')"
   ]
  },
  {
   "cell_type": "code",
   "execution_count": 43,
   "id": "78b24186",
   "metadata": {},
   "outputs": [],
   "source": [
    "# mask = data.copy()"
   ]
  },
  {
   "cell_type": "code",
   "execution_count": 54,
   "id": "c2193d40",
   "metadata": {},
   "outputs": [],
   "source": [
    "mask = np.isnan(data).astype(int)"
   ]
  },
  {
   "cell_type": "code",
   "execution_count": 56,
   "id": "ecaf1b64",
   "metadata": {},
   "outputs": [],
   "source": [
    "mask[mask == 0] = 2"
   ]
  },
  {
   "cell_type": "code",
   "execution_count": 57,
   "id": "dbe05e60",
   "metadata": {},
   "outputs": [
    {
     "data": {
      "text/plain": [
       "array([1, 2, 2, 2, 2, 2, 2, 2, 2, 2, 2, 2, 2, 2])"
      ]
     },
     "execution_count": 57,
     "metadata": {},
     "output_type": "execute_result"
    }
   ],
   "source": [
    "mask[mask == 1] = 0\n",
    "mask[mask == 2] = 1"
   ]
  },
  {
   "cell_type": "code",
   "execution_count": 48,
   "id": "7766f738",
   "metadata": {},
   "outputs": [
    {
     "data": {
      "text/plain": [
       "array([     nan,   0.    ,  11.93  ,   0.    ,   0.573 ,   6.794 ,\n",
       "        89.3   ,   2.3889,   1.    , 273.    ,  21.    , 393.45  ,\n",
       "         6.48  ,  22.    ])"
      ]
     },
     "execution_count": 48,
     "metadata": {},
     "output_type": "execute_result"
    }
   ],
   "source": [
    "data[-2]"
   ]
  },
  {
   "cell_type": "code",
   "execution_count": null,
   "id": "54cfecee",
   "metadata": {},
   "outputs": [],
   "source": []
  }
 ],
 "metadata": {
  "kernelspec": {
   "display_name": "Python 3",
   "language": "python",
   "name": "python3"
  },
  "language_info": {
   "codemirror_mode": {
    "name": "ipython",
    "version": 3
   },
   "file_extension": ".py",
   "mimetype": "text/x-python",
   "name": "python",
   "nbconvert_exporter": "python",
   "pygments_lexer": "ipython3",
   "version": "3.6.15"
  }
 },
 "nbformat": 4,
 "nbformat_minor": 5
}
